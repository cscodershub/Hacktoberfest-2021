{
  "nbformat": 4,
  "nbformat_minor": 0,
  "metadata": {
    "colab": {
      "name": "main_project_using_Logistic_Regression.ipynb",
      "provenance": []
    },
    "kernelspec": {
      "name": "python3",
      "display_name": "Python 3"
    },
    "language_info": {
      "name": "python"
    }
  },
  "cells": [
    {
      "cell_type": "markdown",
      "metadata": {
        "id": "C_BdoHD-fuLk"
      },
      "source": [
        "## **Twitter Sentiment Analysis with Logistic Regression**\n",
        "\n",
        "---\n",
        "\n"
      ]
    },
    {
      "cell_type": "markdown",
      "metadata": {
        "id": "ens-yboZhZf5"
      },
      "source": [
        "Made By - Saksham Garg \n",
        "\n",
        "3rd year information technology"
      ]
    },
    {
      "cell_type": "markdown",
      "metadata": {
        "id": "Ho17WL6-f-kP"
      },
      "source": [
        "The dataset is divided into two categories of tweets: positive (1) and negative (0).\n",
        "In the positive tweets we find feelings of *happiness, excitement, gratitude,* in the negative tweets we find feelings of *sadness, depression, anger.*\n",
        "\n",
        "The goal is to train a model that can classify the general sentiment of the tweet."
      ]
    },
    {
      "cell_type": "code",
      "metadata": {
        "colab": {
          "base_uri": "https://localhost:8080/"
        },
        "id": "qrtLvVHDgPLc",
        "outputId": "32866791-29c4-40df-d579-a43099457f2c"
      },
      "source": [
        "\n",
        "# importing module\n",
        "import nltk\n",
        "nltk.download(\"popular\") #importing dataset\n",
        "from nltk.corpus import twitter_samples\n",
        "import numpy as np\n",
        "import pandas as pd\n",
        "import seaborn as sn\n",
        "import matplotlib.pyplot as plt\n",
        "\n",
        "\n",
        "positive_sample = twitter_samples.strings('positive_tweets.json')\n",
        "negative_sample = twitter_samples.strings('negative_tweets.json')"
      ],
      "execution_count": null,
      "outputs": [
        {
          "output_type": "stream",
          "name": "stdout",
          "text": [
            "[nltk_data] Downloading collection 'popular'\n",
            "[nltk_data]    | \n",
            "[nltk_data]    | Downloading package cmudict to /root/nltk_data...\n",
            "[nltk_data]    |   Unzipping corpora/cmudict.zip.\n",
            "[nltk_data]    | Downloading package gazetteers to /root/nltk_data...\n",
            "[nltk_data]    |   Unzipping corpora/gazetteers.zip.\n",
            "[nltk_data]    | Downloading package genesis to /root/nltk_data...\n",
            "[nltk_data]    |   Unzipping corpora/genesis.zip.\n",
            "[nltk_data]    | Downloading package gutenberg to /root/nltk_data...\n",
            "[nltk_data]    |   Unzipping corpora/gutenberg.zip.\n",
            "[nltk_data]    | Downloading package inaugural to /root/nltk_data...\n",
            "[nltk_data]    |   Unzipping corpora/inaugural.zip.\n",
            "[nltk_data]    | Downloading package movie_reviews to\n",
            "[nltk_data]    |     /root/nltk_data...\n",
            "[nltk_data]    |   Unzipping corpora/movie_reviews.zip.\n",
            "[nltk_data]    | Downloading package names to /root/nltk_data...\n",
            "[nltk_data]    |   Unzipping corpora/names.zip.\n",
            "[nltk_data]    | Downloading package shakespeare to /root/nltk_data...\n",
            "[nltk_data]    |   Unzipping corpora/shakespeare.zip.\n",
            "[nltk_data]    | Downloading package stopwords to /root/nltk_data...\n",
            "[nltk_data]    |   Unzipping corpora/stopwords.zip.\n",
            "[nltk_data]    | Downloading package treebank to /root/nltk_data...\n",
            "[nltk_data]    |   Unzipping corpora/treebank.zip.\n",
            "[nltk_data]    | Downloading package twitter_samples to\n",
            "[nltk_data]    |     /root/nltk_data...\n",
            "[nltk_data]    |   Unzipping corpora/twitter_samples.zip.\n",
            "[nltk_data]    | Downloading package omw to /root/nltk_data...\n",
            "[nltk_data]    |   Unzipping corpora/omw.zip.\n",
            "[nltk_data]    | Downloading package wordnet to /root/nltk_data...\n",
            "[nltk_data]    |   Unzipping corpora/wordnet.zip.\n",
            "[nltk_data]    | Downloading package wordnet_ic to /root/nltk_data...\n",
            "[nltk_data]    |   Unzipping corpora/wordnet_ic.zip.\n",
            "[nltk_data]    | Downloading package words to /root/nltk_data...\n",
            "[nltk_data]    |   Unzipping corpora/words.zip.\n",
            "[nltk_data]    | Downloading package maxent_ne_chunker to\n",
            "[nltk_data]    |     /root/nltk_data...\n",
            "[nltk_data]    |   Unzipping chunkers/maxent_ne_chunker.zip.\n",
            "[nltk_data]    | Downloading package punkt to /root/nltk_data...\n",
            "[nltk_data]    |   Unzipping tokenizers/punkt.zip.\n",
            "[nltk_data]    | Downloading package snowball_data to\n",
            "[nltk_data]    |     /root/nltk_data...\n",
            "[nltk_data]    | Downloading package averaged_perceptron_tagger to\n",
            "[nltk_data]    |     /root/nltk_data...\n",
            "[nltk_data]    |   Unzipping taggers/averaged_perceptron_tagger.zip.\n",
            "[nltk_data]    | \n",
            "[nltk_data]  Done downloading collection popular\n"
          ]
        }
      ]
    },
    {
      "cell_type": "code",
      "metadata": {
        "colab": {
          "base_uri": "https://localhost:8080/",
          "height": 423
        },
        "id": "TtvKhpuGgUU3",
        "outputId": "d8241765-afb5-4f44-89f3-fc7ff3398607"
      },
      "source": [
        "d = {\"tweet\":positive_sample+negative_sample,\"sentiment\":[1]*5000+[0]*5000}\n",
        "df = pd.DataFrame(data=d)\n",
        "df"
      ],
      "execution_count": null,
      "outputs": [
        {
          "output_type": "execute_result",
          "data": {
            "text/html": [
              "<div>\n",
              "<style scoped>\n",
              "    .dataframe tbody tr th:only-of-type {\n",
              "        vertical-align: middle;\n",
              "    }\n",
              "\n",
              "    .dataframe tbody tr th {\n",
              "        vertical-align: top;\n",
              "    }\n",
              "\n",
              "    .dataframe thead th {\n",
              "        text-align: right;\n",
              "    }\n",
              "</style>\n",
              "<table border=\"1\" class=\"dataframe\">\n",
              "  <thead>\n",
              "    <tr style=\"text-align: right;\">\n",
              "      <th></th>\n",
              "      <th>tweet</th>\n",
              "      <th>sentiment</th>\n",
              "    </tr>\n",
              "  </thead>\n",
              "  <tbody>\n",
              "    <tr>\n",
              "      <th>0</th>\n",
              "      <td>#FollowFriday @France_Inte @PKuchly57 @Milipol...</td>\n",
              "      <td>1</td>\n",
              "    </tr>\n",
              "    <tr>\n",
              "      <th>1</th>\n",
              "      <td>@Lamb2ja Hey James! How odd :/ Please call our...</td>\n",
              "      <td>1</td>\n",
              "    </tr>\n",
              "    <tr>\n",
              "      <th>2</th>\n",
              "      <td>@DespiteOfficial we had a listen last night :)...</td>\n",
              "      <td>1</td>\n",
              "    </tr>\n",
              "    <tr>\n",
              "      <th>3</th>\n",
              "      <td>@97sides CONGRATS :)</td>\n",
              "      <td>1</td>\n",
              "    </tr>\n",
              "    <tr>\n",
              "      <th>4</th>\n",
              "      <td>yeaaaah yippppy!!!  my accnt verified rqst has...</td>\n",
              "      <td>1</td>\n",
              "    </tr>\n",
              "    <tr>\n",
              "      <th>...</th>\n",
              "      <td>...</td>\n",
              "      <td>...</td>\n",
              "    </tr>\n",
              "    <tr>\n",
              "      <th>9995</th>\n",
              "      <td>I wanna change my avi but uSanele :(</td>\n",
              "      <td>0</td>\n",
              "    </tr>\n",
              "    <tr>\n",
              "      <th>9996</th>\n",
              "      <td>MY PUPPY BROKE HER FOOT :(</td>\n",
              "      <td>0</td>\n",
              "    </tr>\n",
              "    <tr>\n",
              "      <th>9997</th>\n",
              "      <td>where's all the jaebum baby pictures :((</td>\n",
              "      <td>0</td>\n",
              "    </tr>\n",
              "    <tr>\n",
              "      <th>9998</th>\n",
              "      <td>But but Mr Ahmad Maslan cooks too :( https://t...</td>\n",
              "      <td>0</td>\n",
              "    </tr>\n",
              "    <tr>\n",
              "      <th>9999</th>\n",
              "      <td>@eawoman As a Hull supporter I am expecting a ...</td>\n",
              "      <td>0</td>\n",
              "    </tr>\n",
              "  </tbody>\n",
              "</table>\n",
              "<p>10000 rows × 2 columns</p>\n",
              "</div>"
            ],
            "text/plain": [
              "                                                  tweet  sentiment\n",
              "0     #FollowFriday @France_Inte @PKuchly57 @Milipol...          1\n",
              "1     @Lamb2ja Hey James! How odd :/ Please call our...          1\n",
              "2     @DespiteOfficial we had a listen last night :)...          1\n",
              "3                                  @97sides CONGRATS :)          1\n",
              "4     yeaaaah yippppy!!!  my accnt verified rqst has...          1\n",
              "...                                                 ...        ...\n",
              "9995               I wanna change my avi but uSanele :(          0\n",
              "9996                         MY PUPPY BROKE HER FOOT :(          0\n",
              "9997           where's all the jaebum baby pictures :((          0\n",
              "9998  But but Mr Ahmad Maslan cooks too :( https://t...          0\n",
              "9999  @eawoman As a Hull supporter I am expecting a ...          0\n",
              "\n",
              "[10000 rows x 2 columns]"
            ]
          },
          "metadata": {},
          "execution_count": 2
        }
      ]
    },
    {
      "cell_type": "markdown",
      "metadata": {
        "id": "noT-e8hvgbMX"
      },
      "source": [
        "### **Data Cleaning**\n",
        "Tweets include special characters (like hashtags '#') or links (https://.....) that are useless for reaching our goal.\n",
        "\n",
        "The Data Cleaning phase helps to remove all these less important characters (\"#today\" => \"today\") and to remove some words that do not add meaning to the sentence (the \"stopwords\")."
      ]
    },
    {
      "cell_type": "code",
      "metadata": {
        "colab": {
          "base_uri": "https://localhost:8080/"
        },
        "id": "rMsUjPZ_giIz",
        "outputId": "91a6a502-a6e7-4aed-8bd3-790c44629984"
      },
      "source": [
        "\n",
        "import re                                  \n",
        "import string\n",
        "from nltk.corpus import stopwords          \n",
        "from nltk.stem import PorterStemmer\n",
        "from nltk.tokenize import TweetTokenizer        \n",
        "\n",
        "def text_process(tweet):\n",
        "    tweet = re.sub(r'^RT[\\s]+', '', tweet)\n",
        "    tweet = re.sub(r'@[\\w]+', '', tweet)\n",
        "    tweet = re.sub(r'https?:\\/\\/.*[\\r\\n]*', '', tweet)\n",
        "    tweet = re.sub(r'#', '', tweet)\n",
        "    tokenizer = TweetTokenizer()\n",
        "    tweet_tokenized = tokenizer.tokenize(tweet)\n",
        "    stopwords_english = stopwords.words('english')\n",
        "    stemmer = PorterStemmer() \n",
        "\n",
        "    pron = ['i', 'you','he','she','it','we','they']\n",
        "    tweet_processed = [] \n",
        "    for word in tweet_tokenized:\n",
        "      if word not in stopwords_english and word not in string.punctuation:\n",
        "        word = word.lower()\n",
        "        if word in pron: continue\n",
        "        tweet_processed.append(stemmer.stem(word))\n",
        "\n",
        "    return tweet_processed\n",
        "\n",
        "print(negative_sample[1])\n",
        "text_process(negative_sample[1])"
      ],
      "execution_count": null,
      "outputs": [
        {
          "output_type": "stream",
          "name": "stdout",
          "text": [
            "Everything in the kids section of IKEA is so cute. Shame I'm nearly 19 in 2 months :(\n"
          ]
        },
        {
          "output_type": "execute_result",
          "data": {
            "text/plain": [
              "['everyth',\n",
              " 'kid',\n",
              " 'section',\n",
              " 'ikea',\n",
              " 'cute',\n",
              " 'shame',\n",
              " \"i'm\",\n",
              " 'nearli',\n",
              " '19',\n",
              " '2',\n",
              " 'month',\n",
              " ':(']"
            ]
          },
          "metadata": {},
          "execution_count": 3
        }
      ]
    },
    {
      "cell_type": "markdown",
      "metadata": {
        "id": "wKvWuSjvgmUm"
      },
      "source": [
        "\n",
        "### **Mapping Dataset's Words Frequency**\n",
        "We can't pass strings to our model, so we need to find a way to turn our tweets into numbers.\n",
        "One way is through frequency mapping: We count how many times a word is used in positive tweets and how many in negative tweets.\n",
        "Then for each tweet we add up the positive frequency of all the words in the tweet and also the negative frequency."
      ]
    },
    {
      "cell_type": "code",
      "metadata": {
        "id": "o-s8ctk3gsi8"
      },
      "source": [
        "freq = {}\n",
        "words = []\n",
        "for tweet in positive_sample:\n",
        "  word_list = text_process(tweet)\n",
        "  for word in word_list:\n",
        "    words.append(word)\n",
        "\n",
        "for word in words: # count how many times -word- is used in the positive tweets\n",
        "  if (word,1) in freq:\n",
        "    freq[(word,1)] +=1\n",
        "  else:\n",
        "    freq[(word,1)] = 1\n",
        "\n",
        "words = []\n",
        "for tweet in negative_sample:\n",
        "  word_list = text_process(tweet)\n",
        "  for word in word_list:\n",
        "    words.append(word)\n",
        "\n",
        "for word in words: # count how many times -word- is used in the negative tweets\n",
        "  if (word,0) in freq:\n",
        "    freq[(word,0)] +=1\n",
        "  else:\n",
        "    freq[(word,0)] = 1"
      ],
      "execution_count": null,
      "outputs": []
    },
    {
      "cell_type": "code",
      "metadata": {
        "colab": {
          "base_uri": "https://localhost:8080/",
          "height": 423
        },
        "id": "tmCU91qlgw70",
        "outputId": "0bccf6a5-f641-43f0-dcfe-902c9332f5dc"
      },
      "source": [
        "def features_extraction(tweet, freq):\n",
        "    word_l = text_process(tweet)\n",
        "    x = np.zeros((1, 3))\n",
        "    pos = 0\n",
        "    neg = 0\n",
        "    for word in word_l:\n",
        "        try:\n",
        "            pos += freq[(word,1)]\n",
        "        except:\n",
        "            pos += 0\n",
        "        try: \n",
        "            neg += freq[(word,0)]\n",
        "        except:\n",
        "            neg += 0\n",
        "    return pos,neg\n",
        "\n",
        "freq_positive = []\n",
        "freq_negative = []\n",
        "\n",
        "\n",
        "for word in positive_sample:\n",
        "  pos,neg = features_extraction(word,freq) # for every word in every positive tweet\n",
        "  freq_positive.append(pos) # save the sum of positive frequency\n",
        "  freq_negative.append(neg) # save the sum of negative frequency\n",
        "\n",
        "for word in negative_sample:\n",
        "  pos,neg = features_extraction(word,freq) # for every word in every negative tweet\n",
        "  freq_positive.append(pos) # save the sum of positive frequency\n",
        "  freq_negative.append(neg) # save the sum of negative frequency\n",
        "\n",
        "df[\"freq_positive\"] = freq_positive\n",
        "df[\"freq_negative\"] = freq_negative\n",
        "df"
      ],
      "execution_count": null,
      "outputs": [
        {
          "output_type": "execute_result",
          "data": {
            "text/html": [
              "<div>\n",
              "<style scoped>\n",
              "    .dataframe tbody tr th:only-of-type {\n",
              "        vertical-align: middle;\n",
              "    }\n",
              "\n",
              "    .dataframe tbody tr th {\n",
              "        vertical-align: top;\n",
              "    }\n",
              "\n",
              "    .dataframe thead th {\n",
              "        text-align: right;\n",
              "    }\n",
              "</style>\n",
              "<table border=\"1\" class=\"dataframe\">\n",
              "  <thead>\n",
              "    <tr style=\"text-align: right;\">\n",
              "      <th></th>\n",
              "      <th>tweet</th>\n",
              "      <th>sentiment</th>\n",
              "      <th>freq_positive</th>\n",
              "      <th>freq_negative</th>\n",
              "    </tr>\n",
              "  </thead>\n",
              "  <tbody>\n",
              "    <tr>\n",
              "      <th>0</th>\n",
              "      <td>#FollowFriday @France_Inte @PKuchly57 @Milipol...</td>\n",
              "      <td>1</td>\n",
              "      <td>3764</td>\n",
              "      <td>72</td>\n",
              "    </tr>\n",
              "    <tr>\n",
              "      <th>1</th>\n",
              "      <td>@Lamb2ja Hey James! How odd :/ Please call our...</td>\n",
              "      <td>1</td>\n",
              "      <td>4488</td>\n",
              "      <td>540</td>\n",
              "    </tr>\n",
              "    <tr>\n",
              "      <th>2</th>\n",
              "      <td>@DespiteOfficial we had a listen last night :)...</td>\n",
              "      <td>1</td>\n",
              "      <td>3778</td>\n",
              "      <td>199</td>\n",
              "    </tr>\n",
              "    <tr>\n",
              "      <th>3</th>\n",
              "      <td>@97sides CONGRATS :)</td>\n",
              "      <td>1</td>\n",
              "      <td>3589</td>\n",
              "      <td>4</td>\n",
              "    </tr>\n",
              "    <tr>\n",
              "      <th>4</th>\n",
              "      <td>yeaaaah yippppy!!!  my accnt verified rqst has...</td>\n",
              "      <td>1</td>\n",
              "      <td>3915</td>\n",
              "      <td>280</td>\n",
              "    </tr>\n",
              "    <tr>\n",
              "      <th>...</th>\n",
              "      <td>...</td>\n",
              "      <td>...</td>\n",
              "      <td>...</td>\n",
              "      <td>...</td>\n",
              "    </tr>\n",
              "    <tr>\n",
              "      <th>9995</th>\n",
              "      <td>I wanna change my avi but uSanele :(</td>\n",
              "      <td>0</td>\n",
              "      <td>56</td>\n",
              "      <td>4698</td>\n",
              "    </tr>\n",
              "    <tr>\n",
              "      <th>9996</th>\n",
              "      <td>MY PUPPY BROKE HER FOOT :(</td>\n",
              "      <td>0</td>\n",
              "      <td>78</td>\n",
              "      <td>4704</td>\n",
              "    </tr>\n",
              "    <tr>\n",
              "      <th>9997</th>\n",
              "      <td>where's all the jaebum baby pictures :((</td>\n",
              "      <td>0</td>\n",
              "      <td>34</td>\n",
              "      <td>4640</td>\n",
              "    </tr>\n",
              "    <tr>\n",
              "      <th>9998</th>\n",
              "      <td>But but Mr Ahmad Maslan cooks too :( https://t...</td>\n",
              "      <td>0</td>\n",
              "      <td>45</td>\n",
              "      <td>4643</td>\n",
              "    </tr>\n",
              "    <tr>\n",
              "      <th>9999</th>\n",
              "      <td>@eawoman As a Hull supporter I am expecting a ...</td>\n",
              "      <td>0</td>\n",
              "      <td>121</td>\n",
              "      <td>591</td>\n",
              "    </tr>\n",
              "  </tbody>\n",
              "</table>\n",
              "<p>10000 rows × 4 columns</p>\n",
              "</div>"
            ],
            "text/plain": [
              "                                                  tweet  ...  freq_negative\n",
              "0     #FollowFriday @France_Inte @PKuchly57 @Milipol...  ...             72\n",
              "1     @Lamb2ja Hey James! How odd :/ Please call our...  ...            540\n",
              "2     @DespiteOfficial we had a listen last night :)...  ...            199\n",
              "3                                  @97sides CONGRATS :)  ...              4\n",
              "4     yeaaaah yippppy!!!  my accnt verified rqst has...  ...            280\n",
              "...                                                 ...  ...            ...\n",
              "9995               I wanna change my avi but uSanele :(  ...           4698\n",
              "9996                         MY PUPPY BROKE HER FOOT :(  ...           4704\n",
              "9997           where's all the jaebum baby pictures :((  ...           4640\n",
              "9998  But but Mr Ahmad Maslan cooks too :( https://t...  ...           4643\n",
              "9999  @eawoman As a Hull supporter I am expecting a ...  ...            591\n",
              "\n",
              "[10000 rows x 4 columns]"
            ]
          },
          "metadata": {},
          "execution_count": 7
        }
      ]
    },
    {
      "cell_type": "markdown",
      "metadata": {
        "id": "R4eILneIg8Bd"
      },
      "source": [
        "\n",
        "### **Train & Test Split**"
      ]
    },
    {
      "cell_type": "code",
      "metadata": {
        "id": "uUQkjUQTg_SN"
      },
      "source": [
        "from sklearn.model_selection import train_test_split\n",
        "\n",
        "X = df[[\"freq_positive\",\"freq_negative\"]].to_numpy()\n",
        "X = np.hstack((X,np.ones((X.shape[0],1)))) # adding ones for bias\n",
        "\n",
        "y = df[\"sentiment\"].to_numpy()\n",
        "y = y.reshape((10000,1))\n",
        "\n",
        "X_train, X_test, y_train, y_test = train_test_split(X, y, test_size=0.30, random_state=1)"
      ],
      "execution_count": null,
      "outputs": []
    },
    {
      "cell_type": "markdown",
      "metadata": {
        "id": "lNSPHWfkhCxo"
      },
      "source": [
        "### **Logistic Regression Implementation**"
      ]
    },
    {
      "cell_type": "code",
      "metadata": {
        "colab": {
          "base_uri": "https://localhost:8080/"
        },
        "id": "sVwHfm6IhEVm",
        "outputId": "f2c4b04e-4d19-4afe-d5bd-b183130d783e"
      },
      "source": [
        "def sigmoid(x): \n",
        "    h = 1/(1+np.exp(-x))\n",
        "    return h\n",
        "\n",
        "def learn(x, y, alpha, num_iters):\n",
        "    theta = np.zeros((3,1))\n",
        "    m = x.shape[0]\n",
        "    J = []\n",
        "    for i in range(0, num_iters):\n",
        "        z = x @ theta\n",
        "        h = sigmoid(z)\n",
        "        J.append(-1/m*((y.T @ np.log(h))+((1-y).T @ np.log(1-h)))) # Cross entropy function\n",
        "        theta -= (alpha/m)*(x.T@(h-y)) # gradient descent\n",
        "    return J,theta\n",
        "\n",
        "J,theta = learn(X_train,y_train, 1e-9, 1000)\n",
        "print(theta)"
      ],
      "execution_count": null,
      "outputs": [
        {
          "output_type": "stream",
          "name": "stdout",
          "text": [
            "[[ 4.29735426e-04]\n",
            " [-4.52655667e-04]\n",
            " [ 4.83885628e-08]]\n"
          ]
        }
      ]
    },
    {
      "cell_type": "code",
      "metadata": {
        "colab": {
          "base_uri": "https://localhost:8080/",
          "height": 279
        },
        "id": "vuvtdqPshHYP",
        "outputId": "cc209315-598d-4eba-d844-afd82b96059f"
      },
      "source": [
        "\n",
        "# cross entropy minimized\n",
        "J = np.array(J).reshape(len(J))\n",
        "plt.plot(range(len(J)),J)\n",
        "plt.xlabel(\"epochs\")\n",
        "plt.ylabel(\"loss function\")\n",
        "plt.show()"
      ],
      "execution_count": null,
      "outputs": [
        {
          "output_type": "display_data",
          "data": {
            "image/png": "[encoded data removed]",
            "text/plain": [
              "<Figure size 432x288 with 1 Axes>"
            ]
          },
          "metadata": {
            "needs_background": "light"
          }
        }
      ]
    },
    {
      "cell_type": "markdown",
      "metadata": {
        "id": "D5jErZjjhLlx"
      },
      "source": [
        "### **Testing and Validation**"
      ]
    },
    {
      "cell_type": "code",
      "metadata": {
        "colab": {
          "base_uri": "https://localhost:8080/"
        },
        "id": "QsdHh72EhM0E",
        "outputId": "691025fa-09b4-487d-9c45-0863e3f939ac"
      },
      "source": [
        "def predict(x, freq, theta):\n",
        "    y_pred = sigmoid((x @ theta))\n",
        "    return  y_pred > 0.5\n",
        "\n",
        "def test_accuracy(x, y, freq, theta):\n",
        "    y_hat = predict(x,freq,theta)\n",
        "        \n",
        "    m = len(y_hat)\n",
        "    y_hat = y_hat.reshape(m)\n",
        "    y = y.reshape(m)\n",
        "    \n",
        "    test = list((y_hat == y))\n",
        "    j = test.count(True)\n",
        "    accuracy = j/m\n",
        "    return y_hat ,accuracy*100\n",
        "\n",
        "y_hat, accuracy = test_accuracy(X_test, y_test, freq, theta)\n",
        "print(\"Accuracy:{}%\".format(accuracy))"
      ],
      "execution_count": null,
      "outputs": [
        {
          "output_type": "stream",
          "name": "stdout",
          "text": [
            "Accuracy:99.4%\n"
          ]
        }
      ]
    },
    {
      "cell_type": "code",
      "metadata": {
        "colab": {
          "base_uri": "https://localhost:8080/"
        },
        "id": "8he7wiaxhQyv",
        "outputId": "68e64c44-f6e4-40bd-cc3c-c0d0f2588875"
      },
      "source": [
        "\n",
        "pos,neg = features_extraction(\"Today is a beautiful day :)\",freq)\n",
        "print(predict([[pos,neg,1]],freq,theta))"
      ],
      "execution_count": null,
      "outputs": [
        {
          "output_type": "stream",
          "name": "stdout",
          "text": [
            "[[ True]]\n"
          ]
        }
      ]
    },
    {
      "cell_type": "markdown",
      "metadata": {
        "id": "KR-y99_khUZB"
      },
      "source": [
        "\n",
        "### **Confusion Matrix**"
      ]
    },
    {
      "cell_type": "code",
      "metadata": {
        "colab": {
          "base_uri": "https://localhost:8080/",
          "height": 279
        },
        "id": "CKtzl98_hV8I",
        "outputId": "530bc4df-722b-40a7-cf77-82f890f2844a"
      },
      "source": [
        "\n",
        "data = {'y_Actual':    y_test.reshape(len(y_hat)),'y_Predicted': y_hat}\n",
        "df = pd.DataFrame(data, columns=['y_Actual','y_Predicted'])\n",
        "\n",
        "confusion_matrix = pd.crosstab(df['y_Actual'], df['y_Predicted'], rownames=['Actual'], colnames=['Predicted'])\n",
        "sn.heatmap(confusion_matrix, annot=True)\n",
        "plt.show()"
      ],
      "execution_count": null,
      "outputs": [
        {
          "output_type": "display_data",
          "data": {
            "image/png": "[encoded data removed]",
            "text/plain": [
              "<Figure size 432x288 with 2 Axes>"
            ]
          },
          "metadata": {
            "needs_background": "light"
          }
        }
      ]
    }
  ]
}